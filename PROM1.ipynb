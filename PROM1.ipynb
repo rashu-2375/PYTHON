{
  "nbformat": 4,
  "nbformat_minor": 0,
  "metadata": {
    "colab": {
      "provenance": [],
      "authorship_tag": "ABX9TyN1YDQhMn9CSSY+OraxCVbj",
      "include_colab_link": true
    },
    "kernelspec": {
      "name": "python3",
      "display_name": "Python 3"
    },
    "language_info": {
      "name": "python"
    }
  },
  "cells": [
    {
      "cell_type": "markdown",
      "metadata": {
        "id": "view-in-github",
        "colab_type": "text"
      },
      "source": [
        "<a href=\"https://colab.research.google.com/github/rashu-2375/PYTHON/blob/main/PROM1.ipynb\" target=\"_parent\"><img src=\"https://colab.research.google.com/assets/colab-badge.svg\" alt=\"Open In Colab\"/></a>"
      ]
    },
    {
      "cell_type": "code",
      "execution_count": null,
      "metadata": {
        "id": "6r1phr08OSFv"
      },
      "outputs": [],
      "source": [
        "# find the greatest among three integers input by the user(using and)\n",
        "a=int(input(\"Enter first integer\"))\n",
        "b=int(input(\"Enter second integer\"))\n",
        "c=int(input(\"Enter third integer\"))\n",
        "if a>b and a>c:\n",
        "    print(\"a is the greatest\")\n",
        "elif b>a and b>c:\n",
        "    print(\"b is the greatest\")\n",
        "elif c>a and c>b:\n",
        "    print(\"c is the greatest\")\n"
      ]
    },
    {
      "cell_type": "code",
      "source": [
        "a=int(input(\"Enter first integer\"))\n",
        "b=int(input(\"Enter second integer\"))\n",
        "c=int(input(\"Enter third integer\"))\n",
        "if a>b:\n",
        "    if a>c:\n",
        "        print(\"a is greatest\")\n",
        "    else:\n",
        "        print(\"c is greatest\")\n",
        "else:\n",
        "    if b>c:\n",
        "        print(\"b is greatest\")\n",
        "    else:\n",
        "        print(\"c is greatest\")"
      ],
      "metadata": {
        "id": "3d9KEi-TPSVH"
      },
      "execution_count": null,
      "outputs": []
    }
  ]
}