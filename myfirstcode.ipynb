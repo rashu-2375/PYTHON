{
  "nbformat": 4,
  "nbformat_minor": 0,
  "metadata": {
    "colab": {
      "provenance": [],
      "authorship_tag": "ABX9TyOqvRI6uh1SoWb6JZJM9/Of",
      "include_colab_link": true
    },
    "kernelspec": {
      "name": "python3",
      "display_name": "Python 3"
    },
    "language_info": {
      "name": "python"
    }
  },
  "cells": [
    {
      "cell_type": "markdown",
      "metadata": {
        "id": "view-in-github",
        "colab_type": "text"
      },
      "source": [
        "<a href=\"https://colab.research.google.com/github/rashu-2375/PYTHON/blob/main/myfirstcode.ipynb\" target=\"_parent\"><img src=\"https://colab.research.google.com/assets/colab-badge.svg\" alt=\"Open In Colab\"/></a>"
      ]
    },
    {
      "cell_type": "code",
      "execution_count": null,
      "metadata": {
        "colab": {
          "base_uri": "https://localhost:8080/"
        },
        "id": "iHu4rFD2e-iS",
        "outputId": "a2374381-bf9d-49ea-b9f9-ff23d6fa22db"
      },
      "outputs": [
        {
          "output_type": "execute_result",
          "data": {
            "text/plain": [
              "4"
            ]
          },
          "metadata": {},
          "execution_count": 1
        }
      ],
      "source": [
        "2+2"
      ]
    },
    {
      "cell_type": "code",
      "source": [
        "a=2\n",
        "b=2\n",
        "a+b"
      ],
      "metadata": {
        "colab": {
          "base_uri": "https://localhost:8080/"
        },
        "id": "_s8I-Qf-fDAe",
        "outputId": "b6e8f8e7-f49a-4147-8c55-47d1f92e16c3"
      },
      "execution_count": null,
      "outputs": [
        {
          "output_type": "execute_result",
          "data": {
            "text/plain": [
              "4"
            ]
          },
          "metadata": {},
          "execution_count": 2
        }
      ]
    },
    {
      "cell_type": "code",
      "source": [
        "a=3.6\n",
        "b=4.8\n",
        "c=a+b\n",
        "\n",
        "print(\"The value of a+b is:\",c )"
      ],
      "metadata": {
        "colab": {
          "base_uri": "https://localhost:8080/"
        },
        "id": "hHibP-ppfVb3",
        "outputId": "00455b0f-a8fb-44d9-ab2e-eac6440332b6"
      },
      "execution_count": null,
      "outputs": [
        {
          "output_type": "stream",
          "name": "stdout",
          "text": [
            "The value of a+b is: 8.4\n"
          ]
        }
      ]
    },
    {
      "cell_type": "code",
      "source": [],
      "metadata": {
        "id": "0Jsnsl-ahD3d"
      },
      "execution_count": null,
      "outputs": []
    },
    {
      "cell_type": "code",
      "source": [],
      "metadata": {
        "colab": {
          "base_uri": "https://localhost:8080/"
        },
        "id": "c9tcTXNZhV_7",
        "outputId": "c36aa9bc-5061-48ea-f8c3-1aa5122ca75c"
      },
      "execution_count": null,
      "outputs": [
        {
          "output_type": "execute_result",
          "data": {
            "text/plain": [
              "5"
            ]
          },
          "metadata": {},
          "execution_count": 5
        }
      ]
    },
    {
      "cell_type": "code",
      "source": [
        "a=3.6\n",
        "b=4.8\n",
        "if a> b:\n",
        "    print(\"a is greater\")\n",
        "elif b>a:\n",
        "            print(\"b is greater\")\n",
        "else:\n",
        "    print(\"a is equal to  b\")\n",
        "\n",
        "\n",
        "\n"
      ],
      "metadata": {
        "colab": {
          "base_uri": "https://localhost:8080/"
        },
        "id": "xoPY-MLlhnLV",
        "outputId": "c431999f-6613-4ea4-c65b-e208d65260a9"
      },
      "execution_count": null,
      "outputs": [
        {
          "output_type": "stream",
          "name": "stdout",
          "text": [
            "b is greater\n"
          ]
        }
      ]
    },
    {
      "cell_type": "code",
      "source": [
        "a=2\n",
        "b=3\n",
        "c=4\n",
        "if a>b and a>c:\n",
        "  print(\"a is the gretaest\")\n",
        "elif b>a and b>c:\n",
        "  print(\"b is the greatest\")\n",
        "elif c>a and c>b:\n",
        "  print(\"c is the greatest\")"
      ],
      "metadata": {
        "colab": {
          "base_uri": "https://localhost:8080/"
        },
        "id": "aobLrGD0lm4R",
        "outputId": "5f088b86-4498-48d0-8946-534557eca95f"
      },
      "execution_count": null,
      "outputs": [
        {
          "output_type": "stream",
          "name": "stdout",
          "text": [
            "c is the greatest\n"
          ]
        }
      ]
    },
    {
      "cell_type": "code",
      "source": [],
      "metadata": {
        "id": "__NtP6xzr2f9"
      },
      "execution_count": null,
      "outputs": []
    },
    {
      "cell_type": "markdown",
      "source": [],
      "metadata": {
        "id": "ZtboNQURsnO3"
      }
    },
    {
      "cell_type": "code",
      "source": [
        "a=4\n",
        "b=3\n",
        "c=1\n",
        "if a>b:\n",
        "  print(\"a is greater\")\n",
        "elseif a>c:\n",
        "  print(\"a is the greatest\")"
      ],
      "metadata": {
        "id": "MVcECtISsqNI"
      },
      "execution_count": null,
      "outputs": []
    },
    {
      "cell_type": "code",
      "source": [
        "a=3\n",
        "b=4\n",
        "c=1\n",
        "if b>a:\n",
        "  print(\"b is greater\")\n",
        "elseif b>c:\n",
        "  print(\"b is the greatest\")"
      ],
      "metadata": {
        "id": "TRV3erHNzaIf"
      },
      "execution_count": null,
      "outputs": []
    },
    {
      "cell_type": "code",
      "source": [
        "a=1\n",
        "b=3\n",
        "c=4\n",
        "if c>a:\n",
        "  print(\"c is greater\")\n",
        "elseif c>a:\n",
        "  print(\"c is the greatest\")"
      ],
      "metadata": {
        "id": "Up5w3s9OzoM3"
      },
      "execution_count": null,
      "outputs": []
    },
    {
      "cell_type": "code",
      "source": [],
      "metadata": {
        "id": "izGNtewT09LW"
      },
      "execution_count": null,
      "outputs": []
    },
    {
      "cell_type": "code",
      "source": [
        "a=4\n",
        "b=3\n",
        "c=1\n",
        "if a>b:\n",
        "  print(\"a is greater\")\n",
        "elseif a>c:\n",
        "  print(\"a is the greatest\")"
      ],
      "metadata": {
        "id": "jOOhWLGJ0_1N"
      },
      "execution_count": null,
      "outputs": []
    },
    {
      "cell_type": "code",
      "source": [
        "a=4\n",
        "b=3\n",
        "c=1\n",
        "if a>b:\n",
        "  print(\"a is greater\")\n",
        "elseif a>c:\n",
        "  print(\"a is the greatest\")\n"
      ],
      "metadata": {
        "id": "VDHZeKc41Dpm"
      },
      "execution_count": null,
      "outputs": []
    },
    {
      "cell_type": "code",
      "source": [
        "a=4\n",
        "b=2\n",
        "c=4\n",
        "\n",
        "if a>b:\n",
        "    if a>c:\n",
        "      print(\"a is greatest\")\n",
        "if b>=a:\n",
        "    if b>c:\n",
        "      print(\"b is greatest\")\n",
        "if c>a:\n",
        "    if c>b:\n",
        "      print(\"c is greatest\")\n",
        "\n",
        "\n",
        "\n",
        "\n"
      ],
      "metadata": {
        "id": "qj_fjU0Q7z2M"
      },
      "execution_count": null,
      "outputs": []
    },
    {
      "cell_type": "code",
      "source": [
        "num1=int(input(\"Enter the first integer:\"))\n",
        "print(\"The first integer is:\" ,num1)\n",
        "\n",
        "num2=int(input(\"Enter the second integer:\"))\n",
        "print(\"The second integer is:\" ,num2)\n",
        "\n",
        "num3=int(input(\"Enter the third integer:\"))\n",
        "print(\"The third integer is:\" ,num3)\n",
        "print(\"\")\n",
        "\n",
        "if num1>num2:\n",
        "    if num1>num3:\n",
        "        print(\"the greatest integer is:\",num1)\n",
        "    else:\n",
        "        print(\"the greatest integer is:\" ,num3)\n",
        "else:\n",
        "    if num2>num3:\n",
        "        print(\"the greatest integer is:\",num2)\n",
        "    else:\n",
        "        print(\"the greatest integer is:\",num3)\n"
      ],
      "metadata": {
        "id": "MiAYYXQP8vIK"
      },
      "execution_count": null,
      "outputs": []
    }
  ]
}